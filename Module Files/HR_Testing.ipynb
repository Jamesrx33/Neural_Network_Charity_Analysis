{
 "cells": [
  {
   "cell_type": "code",
   "execution_count": 1,
   "source": [
    "# Import our dependencies\r\n",
    "import pandas as pd\r\n",
    "from sklearn.preprocessing import StandardScaler\r\n",
    "\r\n",
    "# Read in our dataset\r\n",
    "hr_df = pd.read_csv(\"hr_dataset.csv\")\r\n",
    "hr_df.head()"
   ],
   "outputs": [
    {
     "output_type": "execute_result",
     "data": {
      "text/plain": [
       "   Satisfaction_Level  Num_Projects  Time_Spent  Num_Promotions\n",
       "0                0.30             1         253               2\n",
       "1                0.25             1         200               0\n",
       "2                0.90             4        2880               5\n",
       "3                0.65             3        1450               3\n",
       "4                0.50             2         785               2"
      ],
      "text/html": [
       "<div>\n",
       "<style scoped>\n",
       "    .dataframe tbody tr th:only-of-type {\n",
       "        vertical-align: middle;\n",
       "    }\n",
       "\n",
       "    .dataframe tbody tr th {\n",
       "        vertical-align: top;\n",
       "    }\n",
       "\n",
       "    .dataframe thead th {\n",
       "        text-align: right;\n",
       "    }\n",
       "</style>\n",
       "<table border=\"1\" class=\"dataframe\">\n",
       "  <thead>\n",
       "    <tr style=\"text-align: right;\">\n",
       "      <th></th>\n",
       "      <th>Satisfaction_Level</th>\n",
       "      <th>Num_Projects</th>\n",
       "      <th>Time_Spent</th>\n",
       "      <th>Num_Promotions</th>\n",
       "    </tr>\n",
       "  </thead>\n",
       "  <tbody>\n",
       "    <tr>\n",
       "      <th>0</th>\n",
       "      <td>0.30</td>\n",
       "      <td>1</td>\n",
       "      <td>253</td>\n",
       "      <td>2</td>\n",
       "    </tr>\n",
       "    <tr>\n",
       "      <th>1</th>\n",
       "      <td>0.25</td>\n",
       "      <td>1</td>\n",
       "      <td>200</td>\n",
       "      <td>0</td>\n",
       "    </tr>\n",
       "    <tr>\n",
       "      <th>2</th>\n",
       "      <td>0.90</td>\n",
       "      <td>4</td>\n",
       "      <td>2880</td>\n",
       "      <td>5</td>\n",
       "    </tr>\n",
       "    <tr>\n",
       "      <th>3</th>\n",
       "      <td>0.65</td>\n",
       "      <td>3</td>\n",
       "      <td>1450</td>\n",
       "      <td>3</td>\n",
       "    </tr>\n",
       "    <tr>\n",
       "      <th>4</th>\n",
       "      <td>0.50</td>\n",
       "      <td>2</td>\n",
       "      <td>785</td>\n",
       "      <td>2</td>\n",
       "    </tr>\n",
       "  </tbody>\n",
       "</table>\n",
       "</div>"
      ]
     },
     "metadata": {},
     "execution_count": 1
    }
   ],
   "metadata": {}
  },
  {
   "cell_type": "code",
   "execution_count": 2,
   "source": [
    "# Create the StandardScaler instance\r\n",
    "scaler = StandardScaler()"
   ],
   "outputs": [],
   "metadata": {}
  },
  {
   "cell_type": "code",
   "execution_count": 3,
   "source": [
    "# Fit the StandardScaler\r\n",
    "scaler.fit(hr_df)"
   ],
   "outputs": [
    {
     "output_type": "execute_result",
     "data": {
      "text/plain": [
       "StandardScaler()"
      ]
     },
     "metadata": {},
     "execution_count": 3
    }
   ],
   "metadata": {}
  },
  {
   "cell_type": "code",
   "execution_count": 5,
   "source": [
    "# Scale the data\r\n",
    "scaled_data = scaler.transform(hr_df)\r\n",
    "scaled_data"
   ],
   "outputs": [
    {
     "output_type": "execute_result",
     "data": {
      "text/plain": [
       "array([[-1.3036154 , -1.16247639, -1.04948051, -0.55865556],\n",
       "       [-1.51294456, -1.16247639, -1.09460336, -1.80488718],\n",
       "       [ 1.20833454,  0.86023253,  1.18708024,  1.31069188],\n",
       "       [ 0.16168873,  0.18599622, -0.03038526,  0.06446026],\n",
       "       [-0.46629875, -0.48824008, -0.59654929, -0.55865556],\n",
       "       [-0.88495708, -0.48824008, -0.67913261, -0.55865556],\n",
       "       [ 0.99900538,  0.86023253,  0.92315415,  0.68757607],\n",
       "       [ 1.20833454,  1.53446883,  1.2517847 ,  0.68757607],\n",
       "       [-1.93160288, -1.83671269, -1.20698479, -1.18177137],\n",
       "       [ 1.62699286,  1.53446883,  1.65022796,  1.93380769],\n",
       "       [ 0.37101789,  0.18599622,  0.48639905,  0.06446026],\n",
       "       [-1.59667623, -1.16247639, -0.95668069, -1.18177137],\n",
       "       [-0.55003042, -1.16247639, -0.77789205, -0.55865556],\n",
       "       [-0.84309124, -0.48824008, -0.81705528, -0.55865556],\n",
       "       [-0.25696959,  0.18599622, -0.68424086, -0.55865556],\n",
       "       [ 0.37101789,  0.86023253,  0.07603655,  0.68757607],\n",
       "       [ 0.16168873,  0.18599622, -0.00484403,  0.06446026],\n",
       "       [ 0.78967622,  0.86023253,  0.76990675,  0.68757607],\n",
       "       [ 1.08273704,  0.86023253,  1.16579588,  1.31069188],\n",
       "       [-0.96868874, -0.48824008, -0.8196094 , -1.18177137],\n",
       "       [-0.04764043, -0.48824008, -0.39221941, -0.55865556],\n",
       "       [ 1.20833454,  1.53446883,  1.50975117,  1.31069188],\n",
       "       [ 1.62699286,  2.20870514,  2.83534123,  2.5569235 ],\n",
       "       [ 0.58034706,  0.18599622, -0.18448404,  0.06446026],\n",
       "       [ 0.78967622,  0.18599622,  0.04623844,  0.06446026],\n",
       "       [-0.63376208, -1.16247639, -0.7497967 , -0.55865556],\n",
       "       [-0.46629875, -0.48824008, -0.55653469, -0.55865556],\n",
       "       [-1.09428624, -1.16247639, -0.90048998, -1.18177137],\n",
       "       [ 0.37101789, -0.48824008, -0.40073316,  0.06446026]])"
      ]
     },
     "metadata": {},
     "execution_count": 5
    }
   ],
   "metadata": {}
  },
  {
   "cell_type": "code",
   "execution_count": 6,
   "source": [
    "# Create a DataFrame with the scaled data\r\n",
    "transformed_scaled_data = pd.DataFrame(scaled_data, columns=hr_df.columns)\r\n",
    "transformed_scaled_data.head()"
   ],
   "outputs": [
    {
     "output_type": "execute_result",
     "data": {
      "text/plain": [
       "   Satisfaction_Level  Num_Projects  Time_Spent  Num_Promotions\n",
       "0           -1.303615     -1.162476   -1.049481       -0.558656\n",
       "1           -1.512945     -1.162476   -1.094603       -1.804887\n",
       "2            1.208335      0.860233    1.187080        1.310692\n",
       "3            0.161689      0.185996   -0.030385        0.064460\n",
       "4           -0.466299     -0.488240   -0.596549       -0.558656"
      ],
      "text/html": [
       "<div>\n",
       "<style scoped>\n",
       "    .dataframe tbody tr th:only-of-type {\n",
       "        vertical-align: middle;\n",
       "    }\n",
       "\n",
       "    .dataframe tbody tr th {\n",
       "        vertical-align: top;\n",
       "    }\n",
       "\n",
       "    .dataframe thead th {\n",
       "        text-align: right;\n",
       "    }\n",
       "</style>\n",
       "<table border=\"1\" class=\"dataframe\">\n",
       "  <thead>\n",
       "    <tr style=\"text-align: right;\">\n",
       "      <th></th>\n",
       "      <th>Satisfaction_Level</th>\n",
       "      <th>Num_Projects</th>\n",
       "      <th>Time_Spent</th>\n",
       "      <th>Num_Promotions</th>\n",
       "    </tr>\n",
       "  </thead>\n",
       "  <tbody>\n",
       "    <tr>\n",
       "      <th>0</th>\n",
       "      <td>-1.303615</td>\n",
       "      <td>-1.162476</td>\n",
       "      <td>-1.049481</td>\n",
       "      <td>-0.558656</td>\n",
       "    </tr>\n",
       "    <tr>\n",
       "      <th>1</th>\n",
       "      <td>-1.512945</td>\n",
       "      <td>-1.162476</td>\n",
       "      <td>-1.094603</td>\n",
       "      <td>-1.804887</td>\n",
       "    </tr>\n",
       "    <tr>\n",
       "      <th>2</th>\n",
       "      <td>1.208335</td>\n",
       "      <td>0.860233</td>\n",
       "      <td>1.187080</td>\n",
       "      <td>1.310692</td>\n",
       "    </tr>\n",
       "    <tr>\n",
       "      <th>3</th>\n",
       "      <td>0.161689</td>\n",
       "      <td>0.185996</td>\n",
       "      <td>-0.030385</td>\n",
       "      <td>0.064460</td>\n",
       "    </tr>\n",
       "    <tr>\n",
       "      <th>4</th>\n",
       "      <td>-0.466299</td>\n",
       "      <td>-0.488240</td>\n",
       "      <td>-0.596549</td>\n",
       "      <td>-0.558656</td>\n",
       "    </tr>\n",
       "  </tbody>\n",
       "</table>\n",
       "</div>"
      ]
     },
     "metadata": {},
     "execution_count": 6
    }
   ],
   "metadata": {}
  }
 ],
 "metadata": {
  "orig_nbformat": 4,
  "language_info": {
   "name": "python",
   "version": "3.7.10",
   "mimetype": "text/x-python",
   "codemirror_mode": {
    "name": "ipython",
    "version": 3
   },
   "pygments_lexer": "ipython3",
   "nbconvert_exporter": "python",
   "file_extension": ".py"
  },
  "kernelspec": {
   "name": "python3",
   "display_name": "Python 3.7.10 64-bit ('mlenv': conda)"
  },
  "interpreter": {
   "hash": "05e23c36e91c7ff3406bf94bef558952bde2381251ee5fed90991576b18c9da5"
  }
 },
 "nbformat": 4,
 "nbformat_minor": 2
}